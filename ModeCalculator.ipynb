{
 "cells": [
  {
   "cell_type": "code",
   "execution_count": 135,
   "metadata": {},
   "outputs": [],
   "source": [
    "def grade_mode(list):\n",
    "    '''\n",
    "    \n",
    "    Parameter：\n",
    "        list：a list of nums\n",
    "        \n",
    "    Return：\n",
    "        grade_mode: (list), may exist multiple modes        \n",
    "    '''\n",
    " \n",
    "    list_set=set(list) #get unique numbers  in list\n",
    "    frequency_dict={} # creat a dict to save frequency \n",
    "    for i in list_set:\n",
    "        frequency_dict[i]=list.count(i) #dict: new_dict[key]=value\n",
    "    grade_mode=[]\n",
    "    for key,value in frequency_dict.items():\n",
    "        if value==max(frequency_dict.values()):\n",
    "            grade_mode.append(key)\n",
    "    return grade_mode\n",
    "\n"
   ]
  },
  {
   "cell_type": "code",
   "execution_count": 131,
   "metadata": {},
   "outputs": [],
   "source": [
    "def grade_mode_two(list):\n",
    "    '''\n",
    "    for single mode\n",
    "    \n",
    "    Parameter: list\n",
    "    \n",
    "    Return: number\n",
    "    \n",
    "    '''\n",
    "    list = np.array(list)\n",
    "    counts = np.bincount(list.astype(int))\n",
    "    return np.argmax(counts)\n",
    "    "
   ]
  },
  {
   "cell_type": "code",
   "execution_count": 132,
   "metadata": {},
   "outputs": [],
   "source": [
    "list = [2,3,4,4,4,5,1,1,2] #input\n"
   ]
  },
  {
   "cell_type": "code",
   "execution_count": 133,
   "metadata": {},
   "outputs": [
    {
     "data": {
      "text/plain": [
       "4"
      ]
     },
     "execution_count": 133,
     "metadata": {},
     "output_type": "execute_result"
    }
   ],
   "source": [
    "grade_mode_two(list)"
   ]
  },
  {
   "cell_type": "code",
   "execution_count": 134,
   "metadata": {},
   "outputs": [
    {
     "data": {
      "text/plain": [
       "[4]"
      ]
     },
     "execution_count": 134,
     "metadata": {},
     "output_type": "execute_result"
    }
   ],
   "source": [
    "grade_mode(list)"
   ]
  }
 ],
 "metadata": {
  "kernelspec": {
   "display_name": "Python 3",
   "language": "python",
   "name": "python3"
  },
  "language_info": {
   "codemirror_mode": {
    "name": "ipython",
    "version": 3
   },
   "file_extension": ".py",
   "mimetype": "text/x-python",
   "name": "python",
   "nbconvert_exporter": "python",
   "pygments_lexer": "ipython3",
   "version": "3.7.0"
  }
 },
 "nbformat": 4,
 "nbformat_minor": 2
}
